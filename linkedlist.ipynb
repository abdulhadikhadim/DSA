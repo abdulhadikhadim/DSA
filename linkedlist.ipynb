{
 "cells": [
  {
   "cell_type": "markdown",
   "metadata": {},
   "source": [
    "Insert:\n",
    "\n",
    "    head\n",
    "\n",
    "    tail\n",
    "\n",
    "    middle\n",
    "\n",
    "\n",
    "Delete:\n",
    "\n",
    "    head\n",
    "\n",
    "    tail\n",
    "\n",
    "    value\n",
    "\n",
    "    index\n",
    "\n",
    "Traverse\n",
    "\n",
    "Search\n"
   ]
  },
  {
   "cell_type": "code",
   "execution_count": 171,
   "metadata": {},
   "outputs": [],
   "source": [
    "class Node:\n",
    "    def __init__(self, data):\n",
    "        self.data = data\n",
    "        self.next = None\n"
   ]
  },
  {
   "cell_type": "code",
   "execution_count": 383,
   "metadata": {},
   "outputs": [],
   "source": [
    "\n",
    "class LinkedList:\n",
    "    def __init__(self):\n",
    "        self.head = None\n",
    "        self.n = 0\n",
    "\n",
    "    def __len__(self):\n",
    "        return self.n\n",
    "\n",
    "    def insert_head(self, value):\n",
    "        new_node = Node(value)\n",
    "        new_node.next = self.head\n",
    "        self.head = new_node\n",
    "        self.n += 1\n",
    "    \n",
    "    def append(self, value):\n",
    "        new_node = Node(value)\n",
    "        \n",
    "        if self.head is None:  # Check if the list is empty\n",
    "            self.head = new_node\n",
    "        else:\n",
    "            curr = self.head\n",
    "            while curr.next is not None:\n",
    "                curr = curr.next\n",
    "            curr.next = new_node\n",
    "        \n",
    "        self.n += 1\n",
    "\n",
    "    def insert_after(self, after,value):\n",
    "        new_node = Node(value)\n",
    "        curr = self.head\n",
    "        while curr != None:\n",
    "            if curr.data == after:\n",
    "                break\n",
    "            curr = curr.next\n",
    "        if curr !=None:\n",
    "            new_node.next = curr.next\n",
    "            curr.next = new_node\n",
    "        else:\n",
    "            return \"Item Not found\"\n",
    "        self.n +=1\n",
    "\n",
    "    def clear(self):\n",
    "        self.head = None\n",
    "        self.n = 0\n",
    "\n",
    "    def delete_head(self):\n",
    "        \n",
    "        if self.head == None:\n",
    "            return \"Empty Linked List\"\n",
    "        self.head = self.head.next\n",
    "\n",
    "        self.n -= 1\n",
    "\n",
    "    def pop(self):\n",
    "        if self.head == None:\n",
    "            return \"Empty Linked List\"\n",
    "        curr = self.head\n",
    "        if curr.next == None:\n",
    "            return self.delete_head()\n",
    "        \n",
    "        while curr.next.next != None:\n",
    "            curr = curr.next\n",
    "        curr.next = None\n",
    "        self.n-=1\n",
    "    \n",
    "    def remove(self, value):\n",
    "        if self.head == None:\n",
    "            return \"Empty LL\"\n",
    "        curr = self.head\n",
    "        if curr:\n",
    "            return self.delete_head()\n",
    "        while curr.next != None:\n",
    "            if curr.next.data == value:\n",
    "                break\n",
    "            curr = curr.next\n",
    "        if curr.next == None:\n",
    "            return \"Not Found\"\n",
    "        else:\n",
    "            curr.next = curr.next.next\n",
    "        self.n-=1\n",
    "    \n",
    "    def find(self, value):\n",
    "        curr = self.head()\n",
    "        while curr != None:\n",
    "            if curr.data = value:\n",
    "                \n",
    "\n",
    "    def __str__(self):\n",
    "        curr = self.head\n",
    "        result = ''\n",
    "        while curr is not None:\n",
    "            result += str(curr.data) + '->'\n",
    "            curr = curr.next\n",
    "        return result[:-2] if result else 'Empty Linked List'\n"
   ]
  },
  {
   "cell_type": "code",
   "execution_count": 384,
   "metadata": {},
   "outputs": [],
   "source": [
    "ll = LinkedList()\n",
    "ll.insert_head(10)\n",
    "ll.insert_head(20)\n",
    "ll.append(30)\n",
    "\n"
   ]
  },
  {
   "cell_type": "code",
   "execution_count": 392,
   "metadata": {},
   "outputs": [
    {
     "name": "stdout",
     "output_type": "stream",
     "text": [
      "Empty Linked List\n"
     ]
    }
   ],
   "source": [
    "print(ll)  # Output should be: 20->10->30\n"
   ]
  },
  {
   "cell_type": "code",
   "execution_count": 391,
   "metadata": {},
   "outputs": [],
   "source": [
    "ll.remove(30)"
   ]
  },
  {
   "cell_type": "code",
   "execution_count": 346,
   "metadata": {},
   "outputs": [
    {
     "name": "stdout",
     "output_type": "stream",
     "text": [
      "3\n"
     ]
    }
   ],
   "source": [
    "print(len(ll))  # Output should be: 3"
   ]
  },
  {
   "cell_type": "code",
   "execution_count": 347,
   "metadata": {},
   "outputs": [],
   "source": [
    "ll.insert_after(after=20,value=40)\n"
   ]
  },
  {
   "cell_type": "code",
   "execution_count": 322,
   "metadata": {},
   "outputs": [],
   "source": [
    "ll.delete_head()"
   ]
  },
  {
   "cell_type": "code",
   "execution_count": 329,
   "metadata": {},
   "outputs": [
    {
     "data": {
      "text/plain": [
       "'Empty Linked List'"
      ]
     },
     "execution_count": 329,
     "metadata": {},
     "output_type": "execute_result"
    }
   ],
   "source": [
    "ll.pop()"
   ]
  },
  {
   "cell_type": "code",
   "execution_count": null,
   "metadata": {},
   "outputs": [],
   "source": []
  }
 ],
 "metadata": {
  "kernelspec": {
   "display_name": "Python 3",
   "language": "python",
   "name": "python3"
  },
  "language_info": {
   "codemirror_mode": {
    "name": "ipython",
    "version": 3
   },
   "file_extension": ".py",
   "mimetype": "text/x-python",
   "name": "python",
   "nbconvert_exporter": "python",
   "pygments_lexer": "ipython3",
   "version": "3.10.1"
  }
 },
 "nbformat": 4,
 "nbformat_minor": 2
}
